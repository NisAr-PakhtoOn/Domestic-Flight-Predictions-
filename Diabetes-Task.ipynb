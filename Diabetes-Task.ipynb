{
 "cells": [
  {
   "cell_type": "code",
   "execution_count": 1,
   "id": "e2aceae4",
   "metadata": {},
   "outputs": [],
   "source": [
    "import numpy as np\n",
    "import pandas as pd\n",
    "from sklearn import linear_model\n",
    "import matplotlib.pyplot as plt\n",
    "#pickle and joblib are used to save your trained model\n",
    "import pickle\n",
    "#from sklearn.externals import joblib\n",
    "import joblib\n",
    "import seaborn as sns\n",
    "from sklearn.model_selection import train_test_split\n",
    "from sklearn.linear_model import LogisticRegression\n",
    "from sklearn.preprocessing import LabelEncoder\n",
    "from sklearn.tree import DecisionTreeClassifier"
   ]
  },
  {
   "cell_type": "code",
   "execution_count": 2,
   "id": "4eb6ea6d",
   "metadata": {
    "scrolled": true
   },
   "outputs": [
    {
     "data": {
      "text/html": [
       "<div>\n",
       "<style scoped>\n",
       "    .dataframe tbody tr th:only-of-type {\n",
       "        vertical-align: middle;\n",
       "    }\n",
       "\n",
       "    .dataframe tbody tr th {\n",
       "        vertical-align: top;\n",
       "    }\n",
       "\n",
       "    .dataframe thead th {\n",
       "        text-align: right;\n",
       "    }\n",
       "</style>\n",
       "<table border=\"1\" class=\"dataframe\">\n",
       "  <thead>\n",
       "    <tr style=\"text-align: right;\">\n",
       "      <th></th>\n",
       "      <th>RW</th>\n",
       "      <th>IR</th>\n",
       "      <th>SSPG</th>\n",
       "      <th>CC</th>\n",
       "    </tr>\n",
       "  </thead>\n",
       "  <tbody>\n",
       "    <tr>\n",
       "      <th>0</th>\n",
       "      <td>0.81</td>\n",
       "      <td>124</td>\n",
       "      <td>55</td>\n",
       "      <td>0</td>\n",
       "    </tr>\n",
       "    <tr>\n",
       "      <th>1</th>\n",
       "      <td>0.95</td>\n",
       "      <td>117</td>\n",
       "      <td>76</td>\n",
       "      <td>0</td>\n",
       "    </tr>\n",
       "    <tr>\n",
       "      <th>2</th>\n",
       "      <td>0.94</td>\n",
       "      <td>143</td>\n",
       "      <td>105</td>\n",
       "      <td>0</td>\n",
       "    </tr>\n",
       "    <tr>\n",
       "      <th>3</th>\n",
       "      <td>1.04</td>\n",
       "      <td>199</td>\n",
       "      <td>108</td>\n",
       "      <td>0</td>\n",
       "    </tr>\n",
       "    <tr>\n",
       "      <th>4</th>\n",
       "      <td>1.00</td>\n",
       "      <td>240</td>\n",
       "      <td>143</td>\n",
       "      <td>0</td>\n",
       "    </tr>\n",
       "    <tr>\n",
       "      <th>...</th>\n",
       "      <td>...</td>\n",
       "      <td>...</td>\n",
       "      <td>...</td>\n",
       "      <td>...</td>\n",
       "    </tr>\n",
       "    <tr>\n",
       "      <th>85</th>\n",
       "      <td>0.95</td>\n",
       "      <td>748</td>\n",
       "      <td>122</td>\n",
       "      <td>1</td>\n",
       "    </tr>\n",
       "    <tr>\n",
       "      <th>86</th>\n",
       "      <td>1.06</td>\n",
       "      <td>320</td>\n",
       "      <td>253</td>\n",
       "      <td>1</td>\n",
       "    </tr>\n",
       "    <tr>\n",
       "      <th>87</th>\n",
       "      <td>0.98</td>\n",
       "      <td>188</td>\n",
       "      <td>211</td>\n",
       "      <td>1</td>\n",
       "    </tr>\n",
       "    <tr>\n",
       "      <th>88</th>\n",
       "      <td>1.16</td>\n",
       "      <td>607</td>\n",
       "      <td>271</td>\n",
       "      <td>1</td>\n",
       "    </tr>\n",
       "    <tr>\n",
       "      <th>89</th>\n",
       "      <td>1.18</td>\n",
       "      <td>297</td>\n",
       "      <td>220</td>\n",
       "      <td>1</td>\n",
       "    </tr>\n",
       "  </tbody>\n",
       "</table>\n",
       "<p>90 rows × 4 columns</p>\n",
       "</div>"
      ],
      "text/plain": [
       "     RW   IR   SSPG   CC\n",
       "0   0.81  124     55   0\n",
       "1   0.95  117     76   0\n",
       "2   0.94  143    105   0\n",
       "3   1.04  199    108   0\n",
       "4   1.00  240    143   0\n",
       "..   ...  ...    ...  ..\n",
       "85  0.95  748    122   1\n",
       "86  1.06  320    253   1\n",
       "87  0.98  188    211   1\n",
       "88  1.16  607    271   1\n",
       "89  1.18  297    220   1\n",
       "\n",
       "[90 rows x 4 columns]"
      ]
     },
     "execution_count": 2,
     "metadata": {},
     "output_type": "execute_result"
    }
   ],
   "source": [
    "data=pd.read_csv(\"Diabetes.csv\")\n",
    "data"
   ]
  },
  {
   "cell_type": "code",
   "execution_count": 3,
   "id": "2dc7354a",
   "metadata": {
    "scrolled": true
   },
   "outputs": [
    {
     "data": {
      "text/plain": [
       "RW       0\n",
       "IR       0\n",
       "SSPG     0\n",
       "CC       0\n",
       "dtype: int64"
      ]
     },
     "execution_count": 3,
     "metadata": {},
     "output_type": "execute_result"
    }
   ],
   "source": [
    "data.isnull().sum()"
   ]
  },
  {
   "cell_type": "markdown",
   "id": "37c7222f",
   "metadata": {},
   "source": [
    "# Numerical features"
   ]
  },
  {
   "cell_type": "code",
   "execution_count": 4,
   "id": "356734b0",
   "metadata": {
    "scrolled": true
   },
   "outputs": [
    {
     "name": "stdout",
     "output_type": "stream",
     "text": [
      "Number of Numeric Variables  4\n"
     ]
    },
    {
     "data": {
      "text/html": [
       "<div>\n",
       "<style scoped>\n",
       "    .dataframe tbody tr th:only-of-type {\n",
       "        vertical-align: middle;\n",
       "    }\n",
       "\n",
       "    .dataframe tbody tr th {\n",
       "        vertical-align: top;\n",
       "    }\n",
       "\n",
       "    .dataframe thead th {\n",
       "        text-align: right;\n",
       "    }\n",
       "</style>\n",
       "<table border=\"1\" class=\"dataframe\">\n",
       "  <thead>\n",
       "    <tr style=\"text-align: right;\">\n",
       "      <th></th>\n",
       "      <th>RW</th>\n",
       "      <th>IR</th>\n",
       "      <th>SSPG</th>\n",
       "      <th>CC</th>\n",
       "    </tr>\n",
       "  </thead>\n",
       "  <tbody>\n",
       "    <tr>\n",
       "      <th>0</th>\n",
       "      <td>0.81</td>\n",
       "      <td>124</td>\n",
       "      <td>55</td>\n",
       "      <td>0</td>\n",
       "    </tr>\n",
       "    <tr>\n",
       "      <th>1</th>\n",
       "      <td>0.95</td>\n",
       "      <td>117</td>\n",
       "      <td>76</td>\n",
       "      <td>0</td>\n",
       "    </tr>\n",
       "    <tr>\n",
       "      <th>2</th>\n",
       "      <td>0.94</td>\n",
       "      <td>143</td>\n",
       "      <td>105</td>\n",
       "      <td>0</td>\n",
       "    </tr>\n",
       "    <tr>\n",
       "      <th>3</th>\n",
       "      <td>1.04</td>\n",
       "      <td>199</td>\n",
       "      <td>108</td>\n",
       "      <td>0</td>\n",
       "    </tr>\n",
       "    <tr>\n",
       "      <th>4</th>\n",
       "      <td>1.00</td>\n",
       "      <td>240</td>\n",
       "      <td>143</td>\n",
       "      <td>0</td>\n",
       "    </tr>\n",
       "    <tr>\n",
       "      <th>...</th>\n",
       "      <td>...</td>\n",
       "      <td>...</td>\n",
       "      <td>...</td>\n",
       "      <td>...</td>\n",
       "    </tr>\n",
       "    <tr>\n",
       "      <th>85</th>\n",
       "      <td>0.95</td>\n",
       "      <td>748</td>\n",
       "      <td>122</td>\n",
       "      <td>1</td>\n",
       "    </tr>\n",
       "    <tr>\n",
       "      <th>86</th>\n",
       "      <td>1.06</td>\n",
       "      <td>320</td>\n",
       "      <td>253</td>\n",
       "      <td>1</td>\n",
       "    </tr>\n",
       "    <tr>\n",
       "      <th>87</th>\n",
       "      <td>0.98</td>\n",
       "      <td>188</td>\n",
       "      <td>211</td>\n",
       "      <td>1</td>\n",
       "    </tr>\n",
       "    <tr>\n",
       "      <th>88</th>\n",
       "      <td>1.16</td>\n",
       "      <td>607</td>\n",
       "      <td>271</td>\n",
       "      <td>1</td>\n",
       "    </tr>\n",
       "    <tr>\n",
       "      <th>89</th>\n",
       "      <td>1.18</td>\n",
       "      <td>297</td>\n",
       "      <td>220</td>\n",
       "      <td>1</td>\n",
       "    </tr>\n",
       "  </tbody>\n",
       "</table>\n",
       "<p>90 rows × 4 columns</p>\n",
       "</div>"
      ],
      "text/plain": [
       "     RW   IR   SSPG   CC\n",
       "0   0.81  124     55   0\n",
       "1   0.95  117     76   0\n",
       "2   0.94  143    105   0\n",
       "3   1.04  199    108   0\n",
       "4   1.00  240    143   0\n",
       "..   ...  ...    ...  ..\n",
       "85  0.95  748    122   1\n",
       "86  1.06  320    253   1\n",
       "87  0.98  188    211   1\n",
       "88  1.16  607    271   1\n",
       "89  1.18  297    220   1\n",
       "\n",
       "[90 rows x 4 columns]"
      ]
     },
     "execution_count": 4,
     "metadata": {},
     "output_type": "execute_result"
    }
   ],
   "source": [
    "numerical_features=[feature for feature in data.columns if data[feature].dtype!='object']\n",
    "\n",
    "print(\"Number of Numeric Variables \",len(numerical_features))\n",
    "data[numerical_features]"
   ]
  },
  {
   "cell_type": "markdown",
   "id": "7da65b01",
   "metadata": {},
   "source": [
    "#  Removing Outliers"
   ]
  },
  {
   "cell_type": "code",
   "execution_count": 5,
   "id": "6cbc9a33",
   "metadata": {},
   "outputs": [],
   "source": [
    "dataset=data.copy()\n",
    "for feature in numerical_features:\n",
    "    \n",
    "    if 0 in dataset[feature].unique():\n",
    "        pass\n",
    "    else:\n",
    "        \n",
    "        \n",
    "        q1=dataset[feature].quantile(0.25)\n",
    "        q3=dataset[feature].quantile(0.75)\n",
    "        iqr=q3-q1\n",
    "        lower_lim=q1-1.5*iqr\n",
    "        upper_lim=q3+1.5*iqr\n",
    "        \n",
    "        dataset=dataset[(dataset[feature]<=upper_lim) & (dataset[feature]>=lower_lim)]\n",
    "        \n",
    "       "
   ]
  },
  {
   "cell_type": "markdown",
   "id": "fc3cbeea",
   "metadata": {},
   "source": [
    "# Handling Ibalancing (oversampled Technique)"
   ]
  },
  {
   "cell_type": "code",
   "execution_count": 6,
   "id": "39c469b7",
   "metadata": {},
   "outputs": [],
   "source": [
    "new_data=dataset.copy()"
   ]
  },
  {
   "cell_type": "code",
   "execution_count": 7,
   "id": "5ea00b04",
   "metadata": {},
   "outputs": [
    {
     "data": {
      "text/plain": [
       "(74, 4)"
      ]
     },
     "execution_count": 7,
     "metadata": {},
     "output_type": "execute_result"
    }
   ],
   "source": [
    "\n",
    "item_1=new_data[new_data[\"CC\"]==1]\n",
    "item_0=new_data[new_data[\"CC\"]==0]\n",
    "\n",
    "\n",
    "item_0.shape\n",
    "\n",
    "\n",
    "\n"
   ]
  },
  {
   "cell_type": "code",
   "execution_count": 8,
   "id": "500011b1",
   "metadata": {},
   "outputs": [
    {
     "data": {
      "text/plain": [
       "(12, 4)"
      ]
     },
     "execution_count": 8,
     "metadata": {},
     "output_type": "execute_result"
    }
   ],
   "source": [
    "item_1.shape"
   ]
  },
  {
   "cell_type": "code",
   "execution_count": 9,
   "id": "994e371d",
   "metadata": {},
   "outputs": [
    {
     "data": {
      "text/plain": [
       "1    74\n",
       "0    74\n",
       "Name: CC, dtype: int64"
      ]
     },
     "execution_count": 9,
     "metadata": {},
     "output_type": "execute_result"
    }
   ],
   "source": [
    "# 0 has more counts\n",
    "\n",
    "#maximise 1 values and make it equal to the 0 \n",
    "#So we pass 74 to data_over 1 as total data_over_0 are74\n",
    "\n",
    "data_over_1=item_1.sample(74,replace=True)\n",
    "data_over=pd.concat([data_over_1,item_0],axis=0)\n",
    "\n",
    "data_over.CC.value_counts()\n",
    "#Hence data is already Sampled almost \n",
    "\n"
   ]
  },
  {
   "cell_type": "code",
   "execution_count": 10,
   "id": "ec9c5147",
   "metadata": {
    "scrolled": true
   },
   "outputs": [
    {
     "data": {
      "text/html": [
       "<div>\n",
       "<style scoped>\n",
       "    .dataframe tbody tr th:only-of-type {\n",
       "        vertical-align: middle;\n",
       "    }\n",
       "\n",
       "    .dataframe tbody tr th {\n",
       "        vertical-align: top;\n",
       "    }\n",
       "\n",
       "    .dataframe thead th {\n",
       "        text-align: right;\n",
       "    }\n",
       "</style>\n",
       "<table border=\"1\" class=\"dataframe\">\n",
       "  <thead>\n",
       "    <tr style=\"text-align: right;\">\n",
       "      <th></th>\n",
       "      <th>RW</th>\n",
       "      <th>IR</th>\n",
       "      <th>SSPG</th>\n",
       "      <th>CC</th>\n",
       "    </tr>\n",
       "  </thead>\n",
       "  <tbody>\n",
       "    <tr>\n",
       "      <th>58</th>\n",
       "      <td>0.99</td>\n",
       "      <td>151</td>\n",
       "      <td>122</td>\n",
       "      <td>1</td>\n",
       "    </tr>\n",
       "    <tr>\n",
       "      <th>89</th>\n",
       "      <td>1.18</td>\n",
       "      <td>297</td>\n",
       "      <td>220</td>\n",
       "      <td>1</td>\n",
       "    </tr>\n",
       "    <tr>\n",
       "      <th>86</th>\n",
       "      <td>1.06</td>\n",
       "      <td>320</td>\n",
       "      <td>253</td>\n",
       "      <td>1</td>\n",
       "    </tr>\n",
       "    <tr>\n",
       "      <th>58</th>\n",
       "      <td>0.99</td>\n",
       "      <td>151</td>\n",
       "      <td>122</td>\n",
       "      <td>1</td>\n",
       "    </tr>\n",
       "    <tr>\n",
       "      <th>70</th>\n",
       "      <td>1.10</td>\n",
       "      <td>344</td>\n",
       "      <td>270</td>\n",
       "      <td>1</td>\n",
       "    </tr>\n",
       "    <tr>\n",
       "      <th>...</th>\n",
       "      <td>...</td>\n",
       "      <td>...</td>\n",
       "      <td>...</td>\n",
       "      <td>...</td>\n",
       "    </tr>\n",
       "    <tr>\n",
       "      <th>77</th>\n",
       "      <td>0.95</td>\n",
       "      <td>156</td>\n",
       "      <td>159</td>\n",
       "      <td>0</td>\n",
       "    </tr>\n",
       "    <tr>\n",
       "      <th>78</th>\n",
       "      <td>0.74</td>\n",
       "      <td>221</td>\n",
       "      <td>103</td>\n",
       "      <td>0</td>\n",
       "    </tr>\n",
       "    <tr>\n",
       "      <th>79</th>\n",
       "      <td>0.84</td>\n",
       "      <td>199</td>\n",
       "      <td>59</td>\n",
       "      <td>0</td>\n",
       "    </tr>\n",
       "    <tr>\n",
       "      <th>80</th>\n",
       "      <td>0.89</td>\n",
       "      <td>76</td>\n",
       "      <td>108</td>\n",
       "      <td>0</td>\n",
       "    </tr>\n",
       "    <tr>\n",
       "      <th>83</th>\n",
       "      <td>1.18</td>\n",
       "      <td>73</td>\n",
       "      <td>220</td>\n",
       "      <td>0</td>\n",
       "    </tr>\n",
       "  </tbody>\n",
       "</table>\n",
       "<p>148 rows × 4 columns</p>\n",
       "</div>"
      ],
      "text/plain": [
       "     RW   IR   SSPG   CC\n",
       "58  0.99  151    122   1\n",
       "89  1.18  297    220   1\n",
       "86  1.06  320    253   1\n",
       "58  0.99  151    122   1\n",
       "70  1.10  344    270   1\n",
       "..   ...  ...    ...  ..\n",
       "77  0.95  156    159   0\n",
       "78  0.74  221    103   0\n",
       "79  0.84  199     59   0\n",
       "80  0.89   76    108   0\n",
       "83  1.18   73    220   0\n",
       "\n",
       "[148 rows x 4 columns]"
      ]
     },
     "execution_count": 10,
     "metadata": {},
     "output_type": "execute_result"
    }
   ],
   "source": [
    "data_over"
   ]
  },
  {
   "cell_type": "code",
   "execution_count": 11,
   "id": "7a9f2338",
   "metadata": {},
   "outputs": [],
   "source": [
    "\n",
    "x=data_over.drop(['CC'],axis=1)\n",
    "y=data_over[\"CC\"]"
   ]
  },
  {
   "cell_type": "markdown",
   "id": "d86d4073",
   "metadata": {},
   "source": [
    "# Splitting Data"
   ]
  },
  {
   "cell_type": "code",
   "execution_count": 12,
   "id": "31a835b7",
   "metadata": {},
   "outputs": [],
   "source": [
    "x_train,x_test,y_train,y_test=train_test_split(x,y,test_size=0.15,random_state=15,stratify=y)"
   ]
  },
  {
   "cell_type": "code",
   "execution_count": 13,
   "id": "d1fb851e",
   "metadata": {},
   "outputs": [],
   "source": [
    "from sklearn.ensemble import GradientBoostingClassifier"
   ]
  },
  {
   "cell_type": "code",
   "execution_count": 14,
   "id": "a6a3b4dd",
   "metadata": {},
   "outputs": [
    {
     "data": {
      "text/plain": [
       "0.9565217391304348"
      ]
     },
     "execution_count": 14,
     "metadata": {},
     "output_type": "execute_result"
    }
   ],
   "source": [
    "model=GradientBoostingClassifier(n_estimators=100, learning_rate=1.0,max_depth=10, random_state=1)\n",
    "model.fit(x_train, y_train)\n",
    "model.score(x_test, y_test)\n"
   ]
  },
  {
   "cell_type": "code",
   "execution_count": 15,
   "id": "47946c0c",
   "metadata": {},
   "outputs": [],
   "source": [
    "pred=model.predict(x_test)"
   ]
  },
  {
   "cell_type": "code",
   "execution_count": 16,
   "id": "6111d6a7",
   "metadata": {
    "scrolled": true
   },
   "outputs": [
    {
     "data": {
      "text/plain": [
       "5     0\n",
       "84    1\n",
       "10    0\n",
       "86    1\n",
       "47    0\n",
       "89    1\n",
       "28    0\n",
       "65    1\n",
       "87    1\n",
       "23    0\n",
       "67    0\n",
       "86    1\n",
       "82    1\n",
       "70    1\n",
       "17    0\n",
       "82    1\n",
       "12    0\n",
       "27    0\n",
       "31    0\n",
       "76    1\n",
       "0     0\n",
       "32    0\n",
       "61    1\n",
       "Name: CC, dtype: int64"
      ]
     },
     "execution_count": 16,
     "metadata": {},
     "output_type": "execute_result"
    }
   ],
   "source": [
    "y_test"
   ]
  },
  {
   "cell_type": "markdown",
   "id": "a7091762",
   "metadata": {},
   "source": [
    "# Classification Report"
   ]
  },
  {
   "cell_type": "code",
   "execution_count": 17,
   "id": "cc570d0c",
   "metadata": {},
   "outputs": [
    {
     "name": "stdout",
     "output_type": "stream",
     "text": [
      "              precision    recall  f1-score   support\n",
      "\n",
      "           0       1.00      0.92      0.96        12\n",
      "           1       0.92      1.00      0.96        11\n",
      "\n",
      "    accuracy                           0.96        23\n",
      "   macro avg       0.96      0.96      0.96        23\n",
      "weighted avg       0.96      0.96      0.96        23\n",
      "\n"
     ]
    }
   ],
   "source": [
    "\n",
    "from sklearn.metrics import classification_report\n",
    "print(classification_report(y_test,pred))"
   ]
  },
  {
   "cell_type": "code",
   "execution_count": null,
   "id": "d4637303",
   "metadata": {},
   "outputs": [],
   "source": []
  },
  {
   "cell_type": "code",
   "execution_count": null,
   "id": "fa2075ae",
   "metadata": {},
   "outputs": [],
   "source": []
  }
 ],
 "metadata": {
  "kernelspec": {
   "display_name": "Python 3",
   "language": "python",
   "name": "python3"
  },
  "language_info": {
   "codemirror_mode": {
    "name": "ipython",
    "version": 3
   },
   "file_extension": ".py",
   "mimetype": "text/x-python",
   "name": "python",
   "nbconvert_exporter": "python",
   "pygments_lexer": "ipython3",
   "version": "3.8.8"
  }
 },
 "nbformat": 4,
 "nbformat_minor": 5
}
